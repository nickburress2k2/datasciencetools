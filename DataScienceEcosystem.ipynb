{
 "cells": [
  {
   "cell_type": "markdown",
   "id": "a2b1f379-5441-405b-94b0-8aaafcce23d8",
   "metadata": {},
   "source": [
    "# Data Science Tools and Ecosystem"
   ]
  },
  {
   "cell_type": "markdown",
   "id": "5e36cea6-e131-467c-b03c-6acec3fee544",
   "metadata": {},
   "source": [
    "In this notebook, Data Science Tools and Ecosystem are summarized. "
   ]
  },
  {
   "cell_type": "markdown",
   "id": "e1a81aee-e11d-4dca-8c9e-24d433334d43",
   "metadata": {},
   "source": [
    "Some of the popular languages are: \n",
    "\n",
    "1. R Language\n",
    "2. SQL \n",
    "3. Python"
   ]
  },
  {
   "cell_type": "markdown",
   "id": "30b3b4a1-597c-4165-9769-f3ef29d453c4",
   "metadata": {},
   "source": [
    "Some of the commonly used libraries used by Data Scientists are: \n",
    "\n",
    "1. scikit-learn \n",
    "2. pandas\n",
    "3. matplotlib"
   ]
  },
  {
   "cell_type": "markdown",
   "id": "942132c1-2c2d-4689-997a-704d2eede827",
   "metadata": {
    "jp-MarkdownHeadingCollapsed": true,
    "tags": []
   },
   "source": [
    "| Data Science Tools |\n",
    "|------------| \n",
    "| JupyterLabs |\n",
    "| Visual Studio Code | \n",
    "| R Studio |\n"
   ]
  },
  {
   "cell_type": "markdown",
   "id": "0ae933c7-49f4-4b21-a8db-4759fee24158",
   "metadata": {},
   "source": [
    "### Below are a few examples of evaluating arithmetic expressions in Python"
   ]
  },
  {
   "cell_type": "code",
   "execution_count": 21,
   "id": "951a681c-a2e4-43e7-88ff-a0d79f8df332",
   "metadata": {
    "tags": []
   },
   "outputs": [
    {
     "data": {
      "text/plain": [
       "17"
      ]
     },
     "execution_count": 21,
     "metadata": {},
     "output_type": "execute_result"
    }
   ],
   "source": [
    "# This is a simple arithmetic expression to multiply then add integers\n",
    "\n",
    "(3*4)+5"
   ]
  },
  {
   "cell_type": "code",
   "execution_count": 31,
   "id": "be4b9986-b798-4cc4-8d8c-533e46cad118",
   "metadata": {
    "tags": []
   },
   "outputs": [
    {
     "data": {
      "text/plain": [
       "3.3333333333333335"
      ]
     },
     "execution_count": 31,
     "metadata": {},
     "output_type": "execute_result"
    }
   ],
   "source": [
    "# This will convert 200 minutes to hours by dividing by 60\n",
    "\n",
    "200/60"
   ]
  },
  {
   "cell_type": "markdown",
   "id": "d2fbf618-81c8-4554-8dae-db6de0789d37",
   "metadata": {},
   "source": [
    "**Objectives**\n",
    "\n",
    "- List commonly used libraries for Data Scientists\n",
    "- Use Python to evaluate simple expressions\n",
    "- Create a table of IDEs"
   ]
  },
  {
   "cell_type": "markdown",
   "id": "b4fcf1bb-a026-420b-882b-06ee049d9a97",
   "metadata": {},
   "source": [
    "## Author \n",
    "Nicholas Burress"
   ]
  },
  {
   "cell_type": "code",
   "execution_count": null,
   "id": "0a4b7cbc-13d8-4568-9b72-f8a78a2dfb96",
   "metadata": {},
   "outputs": [],
   "source": []
  }
 ],
 "metadata": {
  "kernelspec": {
   "display_name": "Python 3 (ipykernel)",
   "language": "python",
   "name": "python3"
  },
  "language_info": {
   "codemirror_mode": {
    "name": "ipython",
    "version": 3
   },
   "file_extension": ".py",
   "mimetype": "text/x-python",
   "name": "python",
   "nbconvert_exporter": "python",
   "pygments_lexer": "ipython3",
   "version": "3.11.9"
  }
 },
 "nbformat": 4,
 "nbformat_minor": 5
}
